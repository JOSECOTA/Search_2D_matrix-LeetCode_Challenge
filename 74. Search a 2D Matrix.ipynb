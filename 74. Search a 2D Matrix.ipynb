{
 "cells": [
  {
   "cell_type": "code",
   "execution_count": 13,
   "id": "09a8491c",
   "metadata": {},
   "outputs": [],
   "source": [
    "\n",
    "def twod_matrix(matrix,target):\n",
    "    nums = []\n",
    "    for m in range(len(matrix)):\n",
    "        for n in range(len(matrix[m])):\n",
    "            nums.append(matrix[m][n])\n",
    "        if target in nums:\n",
    "            return True\n",
    "        else: \n",
    "            return False\n"
   ]
  },
  {
   "cell_type": "code",
   "execution_count": 14,
   "id": "2c3f7876",
   "metadata": {},
   "outputs": [
    {
     "data": {
      "text/plain": [
       "True"
      ]
     },
     "execution_count": 14,
     "metadata": {},
     "output_type": "execute_result"
    }
   ],
   "source": [
    "twod_matrix([[1,3,5,7],[10,11,16,20],[23,30,34,60]],3)"
   ]
  },
  {
   "cell_type": "code",
   "execution_count": null,
   "id": "b12cd23c",
   "metadata": {},
   "outputs": [],
   "source": []
  }
 ],
 "metadata": {
  "kernelspec": {
   "display_name": "Python 3 (ipykernel)",
   "language": "python",
   "name": "python3"
  },
  "language_info": {
   "codemirror_mode": {
    "name": "ipython",
    "version": 3
   },
   "file_extension": ".py",
   "mimetype": "text/x-python",
   "name": "python",
   "nbconvert_exporter": "python",
   "pygments_lexer": "ipython3",
   "version": "3.9.7"
  }
 },
 "nbformat": 4,
 "nbformat_minor": 5
}
